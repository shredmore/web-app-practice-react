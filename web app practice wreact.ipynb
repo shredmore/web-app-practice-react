{
 "cells": [
  {
   "cell_type": "markdown",
   "metadata": {},
   "source": [
    "This is following this tutorial as guidline - https://codeburst.io/creating-a-full-stack-web-application-with-python-npm-webpack-and-react-8925800503d9\n",
    "1. Create new env `conda create -n react`\n",
    "2. Activate env `source activate react`\n",
    "3. Create folder structure for app"
   ]
  },
  {
   "cell_type": "code",
   "execution_count": 4,
   "metadata": {
    "collapsed": true
   },
   "outputs": [],
   "source": [
    "# .  \n",
    "# ├── README.md  \n",
    "# └── fullstack_template/  \n",
    "#     ├── server/  \n",
    "#     └── static/  \n",
    "#         ├── css/  \n",
    "#         ├── dist/  \n",
    "#         ├── images/  \n",
    "#         └── js/  "
   ]
  },
  {
   "cell_type": "markdown",
   "metadata": {},
   "source": [
    "4. Install npm from website\n",
    "5. Run `npm init` in static folder to create package.json (Fill out fields that you want, not all required)\n",
    "6. Install Webpack `npm i webpack --save-dev`\n",
    "7. Create Webpack config file"
   ]
  },
  {
   "cell_type": "code",
   "execution_count": 3,
   "metadata": {},
   "outputs": [],
   "source": [
    "#webpack.config.js #This is js not python\n",
    "# const webpack = require('webpack');\n",
    "# const config = {\n",
    "#     entry:  __dirname + '/js/index.jsx',\n",
    "#     output: {\n",
    "#         path: __dirname + '/dist',\n",
    "#         filename: 'bundle.js',\n",
    "#     },\n",
    "#     resolve: {\n",
    "#         extensions: ['.js', '.jsx', '.css']\n",
    "#     },\n",
    "# };\n",
    "# module.exports = config;"
   ]
  },
  {
   "cell_type": "markdown",
   "metadata": {},
   "source": [
    "5. Modify the scripts section of package.json"
   ]
  },
  {
   "cell_type": "code",
   "execution_count": 6,
   "metadata": {
    "collapsed": true
   },
   "outputs": [],
   "source": [
    "# \"scripts\": {\n",
    "#     \"build\": \"webpack -p --progress --config webpack.config.js\",\n",
    "#     \"dev-build\": \"webpack --progress -d --config webpack.config.js\",\n",
    "#     \"test\": \"echo \\\"Error: no test specified\\\" && exit 1\",\n",
    "#     \"watch\": \"webpack --progress -d --config webpack.config.js --watch\"\n",
    "#   },"
   ]
  },
  {
   "cell_type": "markdown",
   "metadata": {},
   "source": [
    "6. Install babel `npm i babel-core babel-loader babel-preset-es2015 babel-preset-react --save-dev`\n",
    "7. Add to package.json"
   ]
  },
  {
   "cell_type": "code",
   "execution_count": 7,
   "metadata": {
    "collapsed": true
   },
   "outputs": [],
   "source": [
    "# \"babel\": {\n",
    "#     \"presets\": [\n",
    "#       \"es2015\",\n",
    "#       \"react\"\n",
    "#     ]\n",
    "#   },"
   ]
  },
  {
   "cell_type": "markdown",
   "metadata": {},
   "source": [
    "8. Add babel-loader rule to webpack.config"
   ]
  },
  {
   "cell_type": "code",
   "execution_count": null,
   "metadata": {
    "collapsed": true
   },
   "outputs": [],
   "source": [
    "#  module: {\n",
    "#   \t\trules: [\n",
    "# \t    {\n",
    "# \t      test: /\\.jsx?/,\n",
    "# \t      exclude: /node_modules/,\n",
    "# \t      use: 'babel-loader'\n",
    "# \t    }\n",
    "#   \t]\n",
    "# \t}"
   ]
  },
  {
   "cell_type": "markdown",
   "metadata": {},
   "source": [
    "9. Create index.html in statis folder"
   ]
  },
  {
   "cell_type": "code",
   "execution_count": 8,
   "metadata": {
    "collapsed": true
   },
   "outputs": [],
   "source": [
    "# <!— index.html —>\n",
    "# <html>\n",
    "#   <head>\n",
    "#     <meta charset=\"utf-8\">\n",
    "#     <!-- Latest compiled and minified bootstrap CSS -->\n",
    "#     <link rel=\"stylesheet\" href=\"https://maxcdn.bootstrapcdn.com/bootstrap/latest/css/bootstrap.min.css\">\n",
    "#     <title>Creating a Full-Stack Python Application with NPM, React.js and Webpack</title>\n",
    "#   </head>\n",
    "#   <body>\n",
    "#     <div id=\"content\" />\n",
    "#     <script src=\"dist/bundle.js\" type=\"text/javascript\"></script>\n",
    "#   </body>\n",
    "# </html>"
   ]
  },
  {
   "cell_type": "markdown",
   "metadata": {},
   "source": [
    "10. Create index.jsx in static/js"
   ]
  },
  {
   "cell_type": "code",
   "execution_count": 9,
   "metadata": {
    "collapsed": true
   },
   "outputs": [],
   "source": [
    "# alert(\"Hello World!\");"
   ]
  },
  {
   "cell_type": "markdown",
   "metadata": {},
   "source": [
    "11. Open new terminal window\n",
    "12. cd to statis folder\n",
    "13. Run `npm run watch`\n",
    "14. Open index.html in browser\n",
    "15. Should get message from index.jsx \"Hello World!\"\n",
    "16. Install react `npm i react react-dom --save-dev`\n",
    "17. Replace index.jsx with below which is react app that calls react class from separate file"
   ]
  },
  {
   "cell_type": "code",
   "execution_count": null,
   "metadata": {
    "collapsed": true
   },
   "outputs": [],
   "source": [
    "# // index.jsx\n",
    "# import React from \"react\";\n",
    "# import ReactDOM from \"react-dom\";\n",
    "# import App from \"./App\";\n",
    "# ReactDOM.render(<App />, document.getElementById(\"content\"));"
   ]
  },
  {
   "cell_type": "markdown",
   "metadata": {},
   "source": [
    "18. Create app.jsx in statis/js"
   ]
  },
  {
   "cell_type": "code",
   "execution_count": null,
   "metadata": {
    "collapsed": true
   },
   "outputs": [],
   "source": [
    "# // App.jsx\n",
    "# import React from \"react\";\n",
    "# export default class App extends React.Component {\n",
    "#   render () {\n",
    "#     return <p> Hello React!</p>;\n",
    "#   }\n",
    "# }"
   ]
  },
  {
   "cell_type": "markdown",
   "metadata": {},
   "source": [
    "19. Reopen index.html in browser. Should now see \"Hello React!\"\n",
    "20. Create server.py file in server/"
   ]
  },
  {
   "cell_type": "code",
   "execution_count": null,
   "metadata": {
    "collapsed": true
   },
   "outputs": [],
   "source": [
    "# # server.py\n",
    "# from flask import Flask, render_template\n",
    "\n",
    "# app = Flask(__name__, static_folder=\"../static/dist\", template_folder=\"../static\")\n",
    "\n",
    "# @app.route(\"/\")\n",
    "# def index():\n",
    "#     return render_template(\"index.html\")\n",
    "\n",
    "# @app.route(\"/hello\")\n",
    "# def hello():\n",
    "#     return \"Hello World!”\n",
    "\n",
    "# if __name__ == \"__main__\":\n",
    "# app.run()"
   ]
  }
 ],
 "metadata": {
  "kernelspec": {
   "display_name": "Python 3",
   "language": "python",
   "name": "python3"
  },
  "language_info": {
   "codemirror_mode": {
    "name": "ipython",
    "version": 3
   },
   "file_extension": ".py",
   "mimetype": "text/x-python",
   "name": "python",
   "nbconvert_exporter": "python",
   "pygments_lexer": "ipython3",
   "version": "3.6.1"
  }
 },
 "nbformat": 4,
 "nbformat_minor": 2
}
